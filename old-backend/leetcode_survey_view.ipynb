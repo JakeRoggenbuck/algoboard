{
 "cells": [
  {
   "cell_type": "code",
   "execution_count": 1,
   "id": "406a06cb-907e-49d2-93c8-1fcf3d1badf5",
   "metadata": {},
   "outputs": [
    {
     "ename": "ModuleNotFoundError",
     "evalue": "No module named 'pandas'",
     "output_type": "error",
     "traceback": [
      "\u001b[31m---------------------------------------------------------------------------\u001b[39m",
      "\u001b[31mModuleNotFoundError\u001b[39m                       Traceback (most recent call last)",
      "\u001b[36mCell\u001b[39m\u001b[36m \u001b[39m\u001b[32mIn[1]\u001b[39m\u001b[32m, line 1\u001b[39m\n\u001b[32m----> \u001b[39m\u001b[32m1\u001b[39m \u001b[38;5;28;01mimport\u001b[39;00m\u001b[38;5;250m \u001b[39m\u001b[34;01mpandas\u001b[39;00m\u001b[38;5;250m \u001b[39m\u001b[38;5;28;01mas\u001b[39;00m\u001b[38;5;250m \u001b[39m\u001b[34;01mpd\u001b[39;00m\n\u001b[32m      2\u001b[39m \u001b[38;5;28;01mimport\u001b[39;00m\u001b[38;5;250m \u001b[39m\u001b[34;01mseaborn\u001b[39;00m\u001b[38;5;250m \u001b[39m\u001b[38;5;28;01mas\u001b[39;00m\u001b[38;5;250m \u001b[39m\u001b[34;01msns\u001b[39;00m\n",
      "\u001b[31mModuleNotFoundError\u001b[39m: No module named 'pandas'"
     ]
    }
   ],
   "source": [
    "import pandas as pd\n",
    "import seaborn as sns"
   ]
  },
  {
   "cell_type": "code",
   "execution_count": null,
   "id": "7894fc2c-f62f-4e9e-af63-51a91cbd03c4",
   "metadata": {},
   "outputs": [],
   "source": [
    "df = pd.read_csv(\"leet_code_leaderboard.csv\")\n",
    "print(f\"{len(df)=}\")\n",
    "df"
   ]
  },
  {
   "cell_type": "code",
   "execution_count": null,
   "id": "b4d99514-de5b-49ce-8e42-d9ab9946f4c2",
   "metadata": {},
   "outputs": [],
   "source": [
    "# Rename the columns to make them easier to work with\n",
    "df.rename(columns={\n",
    "    'I have participated': 'participated',\n",
    "    'How educational has it been?': 'educational',\n",
    "    'How fun has it been?': 'fun',\n",
    "    'I\\'m excited to continue next week': 'excited',\n",
    "    'I would like more help/resources for problems': 'resources',\n",
    "    'I feel like I am learning': 'learning',\n",
    "    'The chance of winning the weekly competition makes me try harder': 'competition',\n",
    "    'Having suggested problems for the week makes me more exited to work on problems': 'suggested_problems',\n",
    "}, inplace=True)\n",
    "df.head()"
   ]
  },
  {
   "cell_type": "code",
   "execution_count": null,
   "id": "b98c0752-a275-4ade-a20a-fb13334e5166",
   "metadata": {},
   "outputs": [],
   "source": [
    "# Filter out data from people who did not participate\n",
    "length_before = len(df)\n",
    "df = df.loc[df[\"participated\"] == \"checked\"]\n",
    "length_after = len(df)\n",
    "print(f\"{length_before=} -> {length_after=}\")"
   ]
  },
  {
   "cell_type": "code",
   "execution_count": null,
   "id": "04b23848-719b-4a86-9e40-5c3d27d4f5d4",
   "metadata": {},
   "outputs": [],
   "source": [
    "def display_data(column_name):\n",
    "    sns.countplot(data=df, x=column_name)\n",
    "    return df[column_name].mean()"
   ]
  },
  {
   "cell_type": "code",
   "execution_count": null,
   "id": "a8795b38-a0de-49e3-a78b-ccaca3a76547",
   "metadata": {},
   "outputs": [],
   "source": [
    "display_data(\"educational\")"
   ]
  },
  {
   "cell_type": "code",
   "execution_count": null,
   "id": "0f749c4a-cd5c-4741-9c19-422db6761760",
   "metadata": {},
   "outputs": [],
   "source": [
    "display_data(\"fun\")"
   ]
  },
  {
   "cell_type": "code",
   "execution_count": null,
   "id": "df5d0115-b6e8-49e4-8943-a08facc81201",
   "metadata": {},
   "outputs": [],
   "source": [
    "display_data(\"excited\")"
   ]
  },
  {
   "cell_type": "code",
   "execution_count": null,
   "id": "7aa9ad26-5dad-4ac3-8eb4-8208978542e9",
   "metadata": {},
   "outputs": [],
   "source": [
    "display_data(\"resources\")"
   ]
  },
  {
   "cell_type": "code",
   "execution_count": null,
   "id": "e3e759e4-a299-46cb-b736-7971b88c8147",
   "metadata": {},
   "outputs": [],
   "source": [
    "display_data(\"learning\")"
   ]
  },
  {
   "cell_type": "code",
   "execution_count": null,
   "id": "e8d5da35-65b1-4fd8-a073-b1ab4891be78",
   "metadata": {},
   "outputs": [],
   "source": [
    "display_data(\"competition\")t"
   ]
  },
  {
   "cell_type": "code",
   "execution_count": null,
   "id": "c5a5c483-8573-4144-a731-540f9f7692c7",
   "metadata": {},
   "outputs": [],
   "source": [
    "display_data(\"suggested_problems\")"
   ]
  },
  {
   "cell_type": "code",
   "execution_count": null,
   "id": "e84a1975-ed2d-45cb-b0df-76ac64d64464",
   "metadata": {},
   "outputs": [],
   "source": []
  }
 ],
 "metadata": {
  "kernelspec": {
   "display_name": ".venv",
   "language": "python",
   "name": ".venv"
  },
  "language_info": {
   "codemirror_mode": {
    "name": "ipython",
    "version": 3
   },
   "file_extension": ".py",
   "mimetype": "text/x-python",
   "name": "python",
   "nbconvert_exporter": "python",
   "pygments_lexer": "ipython3",
   "version": "3.13.7"
  }
 },
 "nbformat": 4,
 "nbformat_minor": 5
}
