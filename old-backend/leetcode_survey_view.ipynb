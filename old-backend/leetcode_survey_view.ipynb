{
 "cells": [
  {
   "cell_type": "code",
   "execution_count": 61,
   "id": "406a06cb-907e-49d2-93c8-1fcf3d1badf5",
   "metadata": {},
   "outputs": [],
   "source": [
    "import pandas as pd\n",
    "import seaborn as sns"
   ]
  },
  {
   "cell_type": "code",
   "execution_count": 90,
   "id": "7894fc2c-f62f-4e9e-af63-51a91cbd03c4",
   "metadata": {},
   "outputs": [
    {
     "name": "stdout",
     "output_type": "stream",
     "text": [
      "len(df)=8\n"
     ]
    },
    {
     "data": {
      "text/html": [
       "<div>\n",
       "<style scoped>\n",
       "    .dataframe tbody tr th:only-of-type {\n",
       "        vertical-align: middle;\n",
       "    }\n",
       "\n",
       "    .dataframe tbody tr th {\n",
       "        vertical-align: top;\n",
       "    }\n",
       "\n",
       "    .dataframe thead th {\n",
       "        text-align: right;\n",
       "    }\n",
       "</style>\n",
       "<table border=\"1\" class=\"dataframe\">\n",
       "  <thead>\n",
       "    <tr style=\"text-align: right;\">\n",
       "      <th></th>\n",
       "      <th>ID</th>\n",
       "      <th>I have participated</th>\n",
       "      <th>How fun has it been?</th>\n",
       "      <th>How educational has it been?</th>\n",
       "      <th>I'm excited to continue next week</th>\n",
       "      <th>I would like more help/resources for problems</th>\n",
       "      <th>I feel like I am learning</th>\n",
       "      <th>The chance of winning the weekly competition makes me try harder</th>\n",
       "      <th>Having suggested problems for the week makes me more exited to work on problems</th>\n",
       "    </tr>\n",
       "  </thead>\n",
       "  <tbody>\n",
       "    <tr>\n",
       "      <th>0</th>\n",
       "      <td>4</td>\n",
       "      <td>checked</td>\n",
       "      <td>4</td>\n",
       "      <td>2</td>\n",
       "      <td>5</td>\n",
       "      <td>4</td>\n",
       "      <td>5</td>\n",
       "      <td>5</td>\n",
       "      <td>5</td>\n",
       "    </tr>\n",
       "    <tr>\n",
       "      <th>1</th>\n",
       "      <td>5</td>\n",
       "      <td>checked</td>\n",
       "      <td>4</td>\n",
       "      <td>4</td>\n",
       "      <td>4</td>\n",
       "      <td>4</td>\n",
       "      <td>4</td>\n",
       "      <td>4</td>\n",
       "      <td>4</td>\n",
       "    </tr>\n",
       "    <tr>\n",
       "      <th>2</th>\n",
       "      <td>6</td>\n",
       "      <td>checked</td>\n",
       "      <td>4</td>\n",
       "      <td>5</td>\n",
       "      <td>5</td>\n",
       "      <td>3</td>\n",
       "      <td>4</td>\n",
       "      <td>4</td>\n",
       "      <td>4</td>\n",
       "    </tr>\n",
       "    <tr>\n",
       "      <th>3</th>\n",
       "      <td>7</td>\n",
       "      <td>checked</td>\n",
       "      <td>4</td>\n",
       "      <td>5</td>\n",
       "      <td>4</td>\n",
       "      <td>5</td>\n",
       "      <td>5</td>\n",
       "      <td>3</td>\n",
       "      <td>3</td>\n",
       "    </tr>\n",
       "    <tr>\n",
       "      <th>4</th>\n",
       "      <td>8</td>\n",
       "      <td>checked</td>\n",
       "      <td>4</td>\n",
       "      <td>5</td>\n",
       "      <td>3</td>\n",
       "      <td>5</td>\n",
       "      <td>4</td>\n",
       "      <td>3</td>\n",
       "      <td>5</td>\n",
       "    </tr>\n",
       "    <tr>\n",
       "      <th>5</th>\n",
       "      <td>9</td>\n",
       "      <td>checked</td>\n",
       "      <td>5</td>\n",
       "      <td>3</td>\n",
       "      <td>3</td>\n",
       "      <td>3</td>\n",
       "      <td>3</td>\n",
       "      <td>4</td>\n",
       "      <td>5</td>\n",
       "    </tr>\n",
       "    <tr>\n",
       "      <th>6</th>\n",
       "      <td>10</td>\n",
       "      <td>checked</td>\n",
       "      <td>5</td>\n",
       "      <td>5</td>\n",
       "      <td>5</td>\n",
       "      <td>5</td>\n",
       "      <td>5</td>\n",
       "      <td>5</td>\n",
       "      <td>5</td>\n",
       "    </tr>\n",
       "    <tr>\n",
       "      <th>7</th>\n",
       "      <td>11</td>\n",
       "      <td>checked</td>\n",
       "      <td>4</td>\n",
       "      <td>4</td>\n",
       "      <td>4</td>\n",
       "      <td>4</td>\n",
       "      <td>4</td>\n",
       "      <td>5</td>\n",
       "      <td>4</td>\n",
       "    </tr>\n",
       "  </tbody>\n",
       "</table>\n",
       "</div>"
      ],
      "text/plain": [
       "   ID I have participated  How fun has it been?  How educational has it been?  \\\n",
       "0   4             checked                     4                             2   \n",
       "1   5             checked                     4                             4   \n",
       "2   6             checked                     4                             5   \n",
       "3   7             checked                     4                             5   \n",
       "4   8             checked                     4                             5   \n",
       "5   9             checked                     5                             3   \n",
       "6  10             checked                     5                             5   \n",
       "7  11             checked                     4                             4   \n",
       "\n",
       "   I'm excited to continue next week  \\\n",
       "0                                  5   \n",
       "1                                  4   \n",
       "2                                  5   \n",
       "3                                  4   \n",
       "4                                  3   \n",
       "5                                  3   \n",
       "6                                  5   \n",
       "7                                  4   \n",
       "\n",
       "   I would like more help/resources for problems  I feel like I am learning  \\\n",
       "0                                              4                          5   \n",
       "1                                              4                          4   \n",
       "2                                              3                          4   \n",
       "3                                              5                          5   \n",
       "4                                              5                          4   \n",
       "5                                              3                          3   \n",
       "6                                              5                          5   \n",
       "7                                              4                          4   \n",
       "\n",
       "   The chance of winning the weekly competition makes me try harder  \\\n",
       "0                                                  5                  \n",
       "1                                                  4                  \n",
       "2                                                  4                  \n",
       "3                                                  3                  \n",
       "4                                                  3                  \n",
       "5                                                  4                  \n",
       "6                                                  5                  \n",
       "7                                                  5                  \n",
       "\n",
       "   Having suggested problems for the week makes me more exited to work on problems  \n",
       "0                                                  5                                \n",
       "1                                                  4                                \n",
       "2                                                  4                                \n",
       "3                                                  3                                \n",
       "4                                                  5                                \n",
       "5                                                  5                                \n",
       "6                                                  5                                \n",
       "7                                                  4                                "
      ]
     },
     "execution_count": 90,
     "metadata": {},
     "output_type": "execute_result"
    }
   ],
   "source": [
    "df = pd.read_csv(\"leet_code_leaderboard.csv\")\n",
    "print(f\"{len(df)=}\")\n",
    "df"
   ]
  },
  {
   "cell_type": "code",
   "execution_count": 91,
   "id": "b4d99514-de5b-49ce-8e42-d9ab9946f4c2",
   "metadata": {},
   "outputs": [
    {
     "data": {
      "text/html": [
       "<div>\n",
       "<style scoped>\n",
       "    .dataframe tbody tr th:only-of-type {\n",
       "        vertical-align: middle;\n",
       "    }\n",
       "\n",
       "    .dataframe tbody tr th {\n",
       "        vertical-align: top;\n",
       "    }\n",
       "\n",
       "    .dataframe thead th {\n",
       "        text-align: right;\n",
       "    }\n",
       "</style>\n",
       "<table border=\"1\" class=\"dataframe\">\n",
       "  <thead>\n",
       "    <tr style=\"text-align: right;\">\n",
       "      <th></th>\n",
       "      <th>ID</th>\n",
       "      <th>participated</th>\n",
       "      <th>fun</th>\n",
       "      <th>educational</th>\n",
       "      <th>excited</th>\n",
       "      <th>resources</th>\n",
       "      <th>learning</th>\n",
       "      <th>competition</th>\n",
       "      <th>suggested_problems</th>\n",
       "    </tr>\n",
       "  </thead>\n",
       "  <tbody>\n",
       "    <tr>\n",
       "      <th>0</th>\n",
       "      <td>4</td>\n",
       "      <td>checked</td>\n",
       "      <td>4</td>\n",
       "      <td>2</td>\n",
       "      <td>5</td>\n",
       "      <td>4</td>\n",
       "      <td>5</td>\n",
       "      <td>5</td>\n",
       "      <td>5</td>\n",
       "    </tr>\n",
       "    <tr>\n",
       "      <th>1</th>\n",
       "      <td>5</td>\n",
       "      <td>checked</td>\n",
       "      <td>4</td>\n",
       "      <td>4</td>\n",
       "      <td>4</td>\n",
       "      <td>4</td>\n",
       "      <td>4</td>\n",
       "      <td>4</td>\n",
       "      <td>4</td>\n",
       "    </tr>\n",
       "    <tr>\n",
       "      <th>2</th>\n",
       "      <td>6</td>\n",
       "      <td>checked</td>\n",
       "      <td>4</td>\n",
       "      <td>5</td>\n",
       "      <td>5</td>\n",
       "      <td>3</td>\n",
       "      <td>4</td>\n",
       "      <td>4</td>\n",
       "      <td>4</td>\n",
       "    </tr>\n",
       "    <tr>\n",
       "      <th>3</th>\n",
       "      <td>7</td>\n",
       "      <td>checked</td>\n",
       "      <td>4</td>\n",
       "      <td>5</td>\n",
       "      <td>4</td>\n",
       "      <td>5</td>\n",
       "      <td>5</td>\n",
       "      <td>3</td>\n",
       "      <td>3</td>\n",
       "    </tr>\n",
       "    <tr>\n",
       "      <th>4</th>\n",
       "      <td>8</td>\n",
       "      <td>checked</td>\n",
       "      <td>4</td>\n",
       "      <td>5</td>\n",
       "      <td>3</td>\n",
       "      <td>5</td>\n",
       "      <td>4</td>\n",
       "      <td>3</td>\n",
       "      <td>5</td>\n",
       "    </tr>\n",
       "  </tbody>\n",
       "</table>\n",
       "</div>"
      ],
      "text/plain": [
       "   ID participated  fun  educational  excited  resources  learning  \\\n",
       "0   4      checked    4            2        5          4         5   \n",
       "1   5      checked    4            4        4          4         4   \n",
       "2   6      checked    4            5        5          3         4   \n",
       "3   7      checked    4            5        4          5         5   \n",
       "4   8      checked    4            5        3          5         4   \n",
       "\n",
       "   competition  suggested_problems  \n",
       "0            5                   5  \n",
       "1            4                   4  \n",
       "2            4                   4  \n",
       "3            3                   3  \n",
       "4            3                   5  "
      ]
     },
     "execution_count": 91,
     "metadata": {},
     "output_type": "execute_result"
    }
   ],
   "source": [
    "# Rename the columns to make them easier to work with\n",
    "df.rename(columns={\n",
    "    'I have participated': 'participated',\n",
    "    'How educational has it been?': 'educational',\n",
    "    'How fun has it been?': 'fun',\n",
    "    'I\\'m excited to continue next week': 'excited',\n",
    "    'I would like more help/resources for problems': 'resources',\n",
    "    'I feel like I am learning': 'learning',\n",
    "    'The chance of winning the weekly competition makes me try harder': 'competition',\n",
    "    'Having suggested problems for the week makes me more exited to work on problems': 'suggested_problems',\n",
    "}, inplace=True)\n",
    "df.head()"
   ]
  },
  {
   "cell_type": "code",
   "execution_count": 92,
   "id": "b98c0752-a275-4ade-a20a-fb13334e5166",
   "metadata": {},
   "outputs": [
    {
     "name": "stdout",
     "output_type": "stream",
     "text": [
      "length_before=8 -> length_after=8\n"
     ]
    }
   ],
   "source": [
    "# Filter out data from people who did not participate\n",
    "length_before = len(df)\n",
    "df = df.loc[df[\"participated\"] == \"checked\"]\n",
    "length_after = len(df)\n",
    "print(f\"{length_before=} -> {length_after=}\")"
   ]
  },
  {
   "cell_type": "code",
   "execution_count": 93,
   "id": "04b23848-719b-4a86-9e40-5c3d27d4f5d4",
   "metadata": {},
   "outputs": [],
   "source": [
    "def display_data(column_name):\n",
    "    sns.countplot(data=df, x=column_name)\n",
    "    return df[column_name].mean()"
   ]
  },
  {
   "cell_type": "code",
   "execution_count": 94,
   "id": "a8795b38-a0de-49e3-a78b-ccaca3a76547",
   "metadata": {},
   "outputs": [
    {
     "data": {
      "text/plain": [
       "4.125"
      ]
     },
     "execution_count": 94,
     "metadata": {},
     "output_type": "execute_result"
    },
    {
     "data": {
      "image/png": "[encoded data removed]",
      "text/plain": [
       "<Figure size 640x480 with 1 Axes>"
      ]
     },
     "metadata": {},
     "output_type": "display_data"
    }
   ],
   "source": [
    "display_data(\"educational\")"
   ]
  },
  {
   "cell_type": "code",
   "execution_count": 95,
   "id": "0f749c4a-cd5c-4741-9c19-422db6761760",
   "metadata": {},
   "outputs": [
    {
     "data": {
      "text/plain": [
       "4.25"
      ]
     },
     "execution_count": 95,
     "metadata": {},
     "output_type": "execute_result"
    },
    {
     "data": {
      "image/png": "[encoded data removed]",
      "text/plain": [
       "<Figure size 640x480 with 1 Axes>"
      ]
     },
     "metadata": {},
     "output_type": "display_data"
    }
   ],
   "source": [
    "display_data(\"fun\")"
   ]
  },
  {
   "cell_type": "code",
   "execution_count": 96,
   "id": "df5d0115-b6e8-49e4-8943-a08facc81201",
   "metadata": {},
   "outputs": [
    {
     "data": {
      "text/plain": [
       "4.125"
      ]
     },
     "execution_count": 96,
     "metadata": {},
     "output_type": "execute_result"
    },
    {
     "data": {
      "image/png": "[encoded data removed]",
      "text/plain": [
       "<Figure size 640x480 with 1 Axes>"
      ]
     },
     "metadata": {},
     "output_type": "display_data"
    }
   ],
   "source": [
    "display_data(\"excited\")"
   ]
  },
  {
   "cell_type": "code",
   "execution_count": 97,
   "id": "7aa9ad26-5dad-4ac3-8eb4-8208978542e9",
   "metadata": {},
   "outputs": [
    {
     "data": {
      "text/plain": [
       "4.125"
      ]
     },
     "execution_count": 97,
     "metadata": {},
     "output_type": "execute_result"
    },
    {
     "data": {
      "image/png": "[encoded data removed]",
      "text/plain": [
       "<Figure size 640x480 with 1 Axes>"
      ]
     },
     "metadata": {},
     "output_type": "display_data"
    }
   ],
   "source": [
    "display_data(\"resources\")"
   ]
  },
  {
   "cell_type": "code",
   "execution_count": 98,
   "id": "e3e759e4-a299-46cb-b736-7971b88c8147",
   "metadata": {},
   "outputs": [
    {
     "data": {
      "text/plain": [
       "4.25"
      ]
     },
     "execution_count": 98,
     "metadata": {},
     "output_type": "execute_result"
    },
    {
     "data": {
      "image/png": "[encoded data removed]",
      "text/plain": [
       "<Figure size 640x480 with 1 Axes>"
      ]
     },
     "metadata": {},
     "output_type": "display_data"
    }
   ],
   "source": [
    "display_data(\"learning\")"
   ]
  },
  {
   "cell_type": "code",
   "execution_count": 99,
   "id": "e8d5da35-65b1-4fd8-a073-b1ab4891be78",
   "metadata": {},
   "outputs": [
    {
     "data": {
      "text/plain": [
       "4.125"
      ]
     },
     "execution_count": 99,
     "metadata": {},
     "output_type": "execute_result"
    },
    {
     "data": {
      "image/png": "[encoded data removed]",
      "text/plain": [
       "<Figure size 640x480 with 1 Axes>"
      ]
     },
     "metadata": {},
     "output_type": "display_data"
    }
   ],
   "source": [
    "display_data(\"competition\")t"
   ]
  },
  {
   "cell_type": "code",
   "execution_count": 100,
   "id": "c5a5c483-8573-4144-a731-540f9f7692c7",
   "metadata": {},
   "outputs": [
    {
     "data": {
      "text/plain": [
       "4.375"
      ]
     },
     "execution_count": 100,
     "metadata": {},
     "output_type": "execute_result"
    },
    {
     "data": {
      "image/png": "[encoded data removed]",
      "text/plain": [
       "<Figure size 640x480 with 1 Axes>"
      ]
     },
     "metadata": {},
     "output_type": "display_data"
    }
   ],
   "source": [
    "display_data(\"suggested_problems\")"
   ]
  },
  {
   "cell_type": "code",
   "execution_count": null,
   "id": "e84a1975-ed2d-45cb-b0df-76ac64d64464",
   "metadata": {},
   "outputs": [],
   "source": []
  }
 ],
 "metadata": {
  "kernelspec": {
   "display_name": ".venv",
   "language": "python",
   "name": ".venv"
  },
  "language_info": {
   "codemirror_mode": {
    "name": "ipython",
    "version": 3
   },
   "file_extension": ".py",
   "mimetype": "text/x-python",
   "name": "python",
   "nbconvert_exporter": "python",
   "pygments_lexer": "ipython3",
   "version": "3.11.6"
  }
 },
 "nbformat": 4,
 "nbformat_minor": 5
}
